{
 "cells": [
  {
   "cell_type": "code",
   "execution_count": 4,
   "metadata": {},
   "outputs": [],
   "source": [
    "# Image to Numpy Array\n",
    "#I take only 10 images and convert it into numpy array after resizing images you can check by running this code\n",
    "\n",
    "import numpy as np\n",
    "from PIL import Image\n",
    "import os\n",
    "\n",
    "for f in os.listdir('.'):\n",
    "    if f.endswith('.jpg'):\n",
    "        \n",
    "        print(f)\n",
    "        \n",
    "        im = Image.open(f)\n",
    "        im.show()\n",
    "        print(im)\n",
    "        \n",
    "        im=i.resize((200,200))\n",
    "        im_np = np.array(im)\n",
    "        \n",
    "        print(im_np)  \n",
    "        print(im_np.shape)"
   ]
  },
  {
   "cell_type": "code",
   "execution_count": null,
   "metadata": {},
   "outputs": [],
   "source": []
  },
  {
   "cell_type": "code",
   "execution_count": null,
   "metadata": {},
   "outputs": [],
   "source": []
  },
  {
   "cell_type": "code",
   "execution_count": null,
   "metadata": {},
   "outputs": [],
   "source": []
  }
 ],
 "metadata": {
  "kernelspec": {
   "display_name": "Python 3",
   "language": "python",
   "name": "python3"
  },
  "language_info": {
   "codemirror_mode": {
    "name": "ipython",
    "version": 3
   },
   "file_extension": ".py",
   "mimetype": "text/x-python",
   "name": "python",
   "nbconvert_exporter": "python",
   "pygments_lexer": "ipython3",
   "version": "3.7.1"
  }
 },
 "nbformat": 4,
 "nbformat_minor": 2
}
